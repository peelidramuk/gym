{
  "nbformat": 4,
  "nbformat_minor": 0,
  "metadata": {
    "colab": {
      "provenance": [],
      "authorship_tag": "ABX9TyOniB04EaRWqiflrTGF0pX9",
      "include_colab_link": true
    },
    "kernelspec": {
      "name": "python3",
      "display_name": "Python 3"
    },
    "language_info": {
      "name": "python"
    }
  },
  "cells": [
    {
      "cell_type": "markdown",
      "metadata": {
        "id": "view-in-github",
        "colab_type": "text"
      },
      "source": [
        "<a href=\"https://colab.research.google.com/github/peelidramuk/gym/blob/master/colab-notebook/tf_demo.ipynb\" target=\"_parent\"><img src=\"https://colab.research.google.com/assets/colab-badge.svg\" alt=\"Open In Colab\"/></a>"
      ]
    },
    {
      "cell_type": "code",
      "execution_count": null,
      "metadata": {
        "colab": {
          "base_uri": "https://localhost:8080/"
        },
        "id": "vmFUM31sYF2T",
        "outputId": "6d4f3b13-b7c5-4522-c0f6-467895357b10"
      },
      "outputs": [
        {
          "output_type": "stream",
          "name": "stdout",
          "text": [
            "Cloning into 'models'...\n",
            "remote: Enumerating objects: 102123, done.\u001b[K\n",
            "remote: Counting objects: 100% (257/257), done.\u001b[K\n",
            "remote: Compressing objects: 100% (132/132), done.\u001b[K\n",
            "remote: Total 102123 (delta 172), reused 125 (delta 125), pack-reused 101866 (from 3)\u001b[K\n",
            "Receiving objects: 100% (102123/102123), 629.39 MiB | 23.85 MiB/s, done.\n",
            "Resolving deltas: 100% (72763/72763), done.\n"
          ]
        }
      ],
      "source": [
        "!git clone https://github.com/tensorflow/models.git"
      ]
    },
    {
      "cell_type": "code",
      "source": [
        "# Change into models/research directory\n",
        "%cd models/research\n",
        "\n",
        "# Compile protobufs and install object detection API\n",
        "!protoc object_detection/protos/*.proto --python_out=.\n",
        "\n",
        "# Install required Python packages\n",
        "!pip install tf_slim\n",
        "!pip install .\n",
        "\n",
        "# Go back to root to continue other tasks\n",
        "%cd /\n"
      ],
      "metadata": {
        "colab": {
          "base_uri": "https://localhost:8080/"
        },
        "id": "amSk1xGwYZQC",
        "outputId": "6959a000-1908-486a-b063-9781f44fdc93"
      },
      "execution_count": null,
      "outputs": [
        {
          "output_type": "stream",
          "name": "stdout",
          "text": [
            "[Errno 2] No such file or directory: 'models/research'\n",
            "/\n",
            "Could not make proto path relative: object_detection/protos/*.proto: No such file or directory\n",
            "Requirement already satisfied: tf_slim in /usr/local/lib/python3.11/dist-packages (1.1.0)\n",
            "Requirement already satisfied: absl-py>=0.2.2 in /usr/local/lib/python3.11/dist-packages (from tf_slim) (1.4.0)\n",
            "\u001b[31mERROR: Directory '.' is not installable. Neither 'setup.py' nor 'pyproject.toml' found.\u001b[0m\u001b[31m\n",
            "\u001b[0m/\n"
          ]
        }
      ]
    },
    {
      "cell_type": "code",
      "source": [
        "import tensorflow as tf\n",
        "print(\"TensorFlow version:\", tf.__version__)"
      ],
      "metadata": {
        "colab": {
          "base_uri": "https://localhost:8080/"
        },
        "id": "PFtZ5aCHYdeN",
        "outputId": "93e95349-22c5-450e-c7c0-b38b6688addb"
      },
      "execution_count": null,
      "outputs": [
        {
          "output_type": "stream",
          "name": "stdout",
          "text": [
            "TensorFlow version: 2.18.0\n"
          ]
        }
      ]
    },
    {
      "cell_type": "code",
      "source": [
        "!git config --global user.email \"dileepvaltheti@gmail.com\"\n",
        "!git config --global user.name \"Dileep Kumar\"\n"
      ],
      "metadata": {
        "id": "kdUdbc5cYx_8"
      },
      "execution_count": 1,
      "outputs": []
    },
    {
      "cell_type": "code",
      "source": [
        "!mkdir -p colab-playground\n",
        "!cp /content/tf-demo.ipynb colab-playground/\n"
      ],
      "metadata": {
        "colab": {
          "base_uri": "https://localhost:8080/"
        },
        "id": "RLXTcu9WY-fK",
        "outputId": "cbb0ed84-f6e2-4c25-d3ab-45e2570e695e"
      },
      "execution_count": 2,
      "outputs": [
        {
          "output_type": "stream",
          "name": "stdout",
          "text": [
            "cp: cannot stat '/content/tf-demo.ipynb': No such file or directory\n"
          ]
        }
      ]
    },
    {
      "cell_type": "code",
      "source": [],
      "metadata": {
        "id": "Q1WR5HCZZAGn"
      },
      "execution_count": null,
      "outputs": []
    }
  ]
}